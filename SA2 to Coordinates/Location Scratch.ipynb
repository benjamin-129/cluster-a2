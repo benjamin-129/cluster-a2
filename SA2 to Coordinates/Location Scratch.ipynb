{
 "cells": [
  {
   "cell_type": "code",
   "execution_count": 1,
   "metadata": {},
   "outputs": [],
   "source": [
    "import json"
   ]
  },
  {
   "cell_type": "code",
   "execution_count": 14,
   "metadata": {},
   "outputs": [],
   "source": [
    "data = json.load(open(\"sa2_geojson_low.json\"))"
   ]
  },
  {
   "cell_type": "code",
   "execution_count": 17,
   "metadata": {},
   "outputs": [
    {
     "data": {
      "text/plain": [
       "{'type': 'Feature',\n",
       " 'geometry': {'type': 'Polygon',\n",
       "  'coordinates': [[[144.94, -37.79],\n",
       "    [144.94, -37.8],\n",
       "    [144.94, -37.81],\n",
       "    [144.95, -37.81],\n",
       "    [144.96, -37.81],\n",
       "    [144.96, -37.8],\n",
       "    [144.94, -37.79]]]},\n",
       " 'properties': {'SA2_MAIN16': '206041123',\n",
       "  'SA2_5DIG16': '21123',\n",
       "  'SA2_NAME16': 'North Melbourne',\n",
       "  'SA3_CODE16': '20604',\n",
       "  'SA3_NAME16': 'Melbourne City',\n",
       "  'SA4_CODE16': '206',\n",
       "  'SA4_NAME16': 'Melbourne - Inner',\n",
       "  'GCC_CODE16': '2GMEL',\n",
       "  'GCC_NAME16': 'Greater Melbourne',\n",
       "  'STE_CODE16': '2',\n",
       "  'STE_NAME16': 'Victoria',\n",
       "  'AREASQKM16': 3.2492}}"
      ]
     },
     "execution_count": 17,
     "metadata": {},
     "output_type": "execute_result"
    }
   ],
   "source": [
    "data['features'][700]"
   ]
  },
  {
   "cell_type": "code",
   "execution_count": null,
   "metadata": {},
   "outputs": [],
   "source": []
  }
 ],
 "metadata": {
  "kernelspec": {
   "display_name": "Python 3",
   "language": "python",
   "name": "python3"
  },
  "language_info": {
   "codemirror_mode": {
    "name": "ipython",
    "version": 3
   },
   "file_extension": ".py",
   "mimetype": "text/x-python",
   "name": "python",
   "nbconvert_exporter": "python",
   "pygments_lexer": "ipython3",
   "version": "3.8.5"
  }
 },
 "nbformat": 4,
 "nbformat_minor": 4
}
