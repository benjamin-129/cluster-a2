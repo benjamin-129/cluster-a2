{
 "cells": [
  {
   "cell_type": "code",
   "execution_count": 1,
   "metadata": {},
   "outputs": [],
   "source": [
    "import json"
   ]
  },
  {
   "cell_type": "code",
   "execution_count": 22,
   "metadata": {},
   "outputs": [],
   "source": [
    "loc_data = json.load(open(\"sa2_geojson_low.json\"))"
   ]
  },
  {
   "cell_type": "code",
   "execution_count": 31,
   "metadata": {},
   "outputs": [
    {
     "data": {
      "text/plain": [
       "2310"
      ]
     },
     "execution_count": 31,
     "metadata": {},
     "output_type": "execute_result"
    }
   ],
   "source": [
    "len(loc_data['features'])"
   ]
  },
  {
   "cell_type": "code",
   "execution_count": 29,
   "metadata": {},
   "outputs": [
    {
     "data": {
      "text/plain": [
       "list"
      ]
     },
     "execution_count": 29,
     "metadata": {},
     "output_type": "execute_result"
    }
   ],
   "source": [
    "type(loc_data['features'][700]['geometry']['coordinates'])"
   ]
  },
  {
   "cell_type": "code",
   "execution_count": 38,
   "metadata": {},
   "outputs": [
    {
     "data": {
      "text/plain": [
       "{'type': 'Feature',\n",
       " 'geometry': None,\n",
       " 'properties': {'SA2_MAIN16': '997979799',\n",
       "  'SA2_5DIG16': '99799',\n",
       "  'SA2_NAME16': 'Migratory - Offshore - Shipping (OT)',\n",
       "  'SA3_CODE16': '99797',\n",
       "  'SA3_NAME16': 'Migratory - Offshore - Shipping (OT)',\n",
       "  'SA4_CODE16': '997',\n",
       "  'SA4_NAME16': 'Migratory - Offshore - Shipping (OT)',\n",
       "  'GCC_CODE16': '99799',\n",
       "  'GCC_NAME16': 'Migratory - Offshore - Shipping (OT)',\n",
       "  'STE_CODE16': '9',\n",
       "  'STE_NAME16': 'Other Territories',\n",
       "  'AREASQKM16': 0}}"
      ]
     },
     "execution_count": 38,
     "metadata": {},
     "output_type": "execute_result"
    }
   ],
   "source": [
    "loc_data['features'][2308]"
   ]
  },
  {
   "cell_type": "code",
   "execution_count": 39,
   "metadata": {},
   "outputs": [],
   "source": [
    "# Preprocess data: make SA2 the key\n",
    "loc_dict = {}\n",
    "for data in loc_data['features']:\n",
    "    if data['geometry'] != None:\n",
    "        loc_dict[data['properties']['SA2_MAIN16']] = data['geometry']['coordinates']\n"
   ]
  },
  {
   "cell_type": "code",
   "execution_count": null,
   "metadata": {},
   "outputs": [],
   "source": []
  },
  {
   "cell_type": "code",
   "execution_count": 18,
   "metadata": {},
   "outputs": [],
   "source": [
    "# Load household price data\n",
    "wealth_data = json.load(open(\"wealth_data.json\"))"
   ]
  },
  {
   "cell_type": "code",
   "execution_count": 20,
   "metadata": {},
   "outputs": [
    {
     "data": {
      "text/plain": [
       "{'type': 'Feature',\n",
       " 'properties': {'for_rent_home_lease_standarddeviationprice': 159.3174,\n",
       "  'sold_both_auction_private_treaty_averageprice': 1252530.0,\n",
       "  'dateyear': 2021,\n",
       "  'sa22016code': 206071139,\n",
       "  'sold_both_auction_private_treaty_standarddeviationprice': 371664.3,\n",
       "  'propertycategorisation': 'House',\n",
       "  'for_rent_home_lease_pricecalcreccount': 185.0,\n",
       "  'state': 'VIC',\n",
       "  'datemonth': 1,\n",
       "  'for_sale_both_auction_private_treaty_maximumprice': 2625000.0,\n",
       "  'for_sale_both_auction_private_treaty_minimumprice': 115000.0,\n",
       "  'sold_both_auction_private_treaty_totalprice': 81400000.0,\n",
       "  'sold_both_auction_private_treaty_pricecalcreccount': 65.0,\n",
       "  'for_rent_home_lease_totalprice': 116785.0,\n",
       "  'for_sale_both_auction_private_treaty_medianprice': 1100000.0},\n",
       " 'id': 'apm_sa2_2016_timeseries.fid-5c91773e_178f8e60b66_b0'}"
      ]
     },
     "execution_count": 20,
     "metadata": {},
     "output_type": "execute_result"
    }
   ],
   "source": [
    "wealth_data['features'][0]"
   ]
  },
  {
   "cell_type": "code",
   "execution_count": 26,
   "metadata": {},
   "outputs": [
    {
     "data": {
      "text/plain": [
       "206071139"
      ]
     },
     "execution_count": 26,
     "metadata": {},
     "output_type": "execute_result"
    }
   ],
   "source": [
    "# Get example SA@\n",
    "wealth_data['features'][0]['properties']['sa22016code']"
   ]
  },
  {
   "cell_type": "code",
   "execution_count": 42,
   "metadata": {},
   "outputs": [
    {
     "data": {
      "text/plain": [
       "[[[144.99, -37.8],\n",
       "  [144.99, -37.81],\n",
       "  [145, -37.81],\n",
       "  [145.01, -37.81],\n",
       "  [145.02, -37.81],\n",
       "  [145.01, -37.81],\n",
       "  [145, -37.81],\n",
       "  [145, -37.8],\n",
       "  [145, -37.81],\n",
       "  [145.01, -37.81],\n",
       "  [145.01, -37.8],\n",
       "  [145, -37.8],\n",
       "  [144.99, -37.8]]]"
      ]
     },
     "execution_count": 42,
     "metadata": {},
     "output_type": "execute_result"
    }
   ],
   "source": [
    "loc_dict['206071139']"
   ]
  },
  {
   "cell_type": "code",
   "execution_count": null,
   "metadata": {},
   "outputs": [],
   "source": []
  }
 ],
 "metadata": {
  "kernelspec": {
   "display_name": "Python 3",
   "language": "python",
   "name": "python3"
  },
  "language_info": {
   "codemirror_mode": {
    "name": "ipython",
    "version": 3
   },
   "file_extension": ".py",
   "mimetype": "text/x-python",
   "name": "python",
   "nbconvert_exporter": "python",
   "pygments_lexer": "ipython3",
   "version": "3.8.5"
  }
 },
 "nbformat": 4,
 "nbformat_minor": 4
}
