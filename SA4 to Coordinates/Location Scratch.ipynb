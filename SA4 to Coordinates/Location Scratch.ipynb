{
 "cells": [
  {
   "cell_type": "code",
   "execution_count": 50,
   "metadata": {},
   "outputs": [],
   "source": [
    "import json\n",
    "import pickle\n",
    "import math\n",
    "from geojson_utils import centroid"
   ]
  },
  {
   "cell_type": "code",
   "execution_count": 51,
   "metadata": {},
   "outputs": [],
   "source": [
    "# loc_data = json.load(open(\"sa2_geojson_low.json\"))\n",
    "loc_data = json.load(open(\"sa4_geojson.json\"))"
   ]
  },
  {
   "cell_type": "code",
   "execution_count": 52,
   "metadata": {},
   "outputs": [],
   "source": [
    "dict_keys(['101', '102', '103', '104', '105', '106', '107', '108', '109', '110', '111', '112', \n",
    "           '113', '114', '115', '116', '117', '118', '119', '120', '121', '122', '123', '124', \n",
    "           '125', '126', '127', '128', \n",
    "           \n",
    "           '701', '702', '801', \n",
    "           \n",
    "           \n",
    "           \n",
    "           \n",
    "           '201', '202', '203', '204', '205', '206', '207', '208', \n",
    "           '209', '210', '211', '212', '213', '214', '215', '216', '217', \n",
    "           \n",
    "           '401', '402', '403', '404', '405', '406', '407', \n",
    "            '601', '602', '603', '604', \n",
    "           \n",
    "           \n",
    "           \n",
    "           '301', '302', '303',           \n",
    "           '304', '305', '306', '307', '308', '309', '310', '311', '312', '313', '314', '315', \n",
    "           '316', '317', '318', '319', \n",
    "           \n",
    "           '501', '502', '503', '504', '505', '506', '507', '509', '510', '511', \n",
    "           \n",
    "          \n",
    "           \n",
    "           \n",
    "           \n",
    "           \n",
    "           \n",
    "           '901'])"
   ]
  },
  {
   "cell_type": "code",
   "execution_count": 98,
   "metadata": {},
   "outputs": [
    {
     "name": "stdout",
     "output_type": "stream",
     "text": [
      "101\n",
      "Capital Region\n",
      "102\n",
      "Central Coast\n",
      "103\n",
      "Central West\n",
      "104\n",
      "Coffs Harbour - Grafton\n",
      "105\n",
      "Far West and Orana\n",
      "106\n",
      "Hunter Valley exc Newcastle\n",
      "107\n",
      "Illawarra\n",
      "108\n",
      "Mid North Coast\n",
      "109\n",
      "Murray\n",
      "110\n",
      "New England and North West\n",
      "111\n",
      "Newcastle and Lake Macquarie\n",
      "112\n",
      "Richmond - Tweed\n",
      "113\n",
      "Riverina\n",
      "114\n",
      "Southern Highlands and Shoalhaven\n",
      "115\n",
      "Sydney - Baulkham Hills and Hawkesbury\n",
      "116\n",
      "Sydney - Blacktown\n",
      "117\n",
      "Sydney - City and Inner South\n",
      "118\n",
      "Sydney - Eastern Suburbs\n",
      "119\n",
      "Sydney - Inner South West\n",
      "120\n",
      "Sydney - Inner West\n",
      "121\n",
      "Sydney - North Sydney and Hornsby\n",
      "122\n",
      "Sydney - Northern Beaches\n",
      "123\n",
      "Sydney - Outer South West\n",
      "124\n",
      "Sydney - Outer West and Blue Mountains\n",
      "125\n",
      "Sydney - Parramatta\n",
      "126\n",
      "Sydney - Ryde\n",
      "127\n",
      "Sydney - South West\n",
      "128\n",
      "Sydney - Sutherland\n",
      "197\n",
      "Migratory - Offshore - Shipping (NSW)\n",
      "199\n",
      "No usual address (NSW)\n",
      "201\n",
      "Ballarat\n",
      "202\n",
      "Bendigo\n",
      "203\n",
      "Geelong\n",
      "204\n",
      "Hume\n",
      "205\n",
      "Latrobe - Gippsland\n",
      "206\n",
      "Melbourne - Inner\n",
      "207\n",
      "Melbourne - Inner East\n",
      "208\n",
      "Melbourne - Inner South\n",
      "209\n",
      "Melbourne - North East\n",
      "210\n",
      "Melbourne - North West\n",
      "211\n",
      "Melbourne - Outer East\n",
      "212\n",
      "Melbourne - South East\n",
      "213\n",
      "Melbourne - West\n",
      "214\n",
      "Mornington Peninsula\n",
      "215\n",
      "North West\n",
      "216\n",
      "Shepparton\n",
      "217\n",
      "Warrnambool and South West\n",
      "297\n",
      "Migratory - Offshore - Shipping (Vic.)\n",
      "299\n",
      "No usual address (Vic.)\n",
      "301\n",
      "Brisbane - East\n",
      "302\n",
      "Brisbane - North\n",
      "303\n",
      "Brisbane - South\n",
      "304\n",
      "Brisbane - West\n",
      "305\n",
      "Brisbane Inner City\n",
      "306\n",
      "Cairns\n",
      "307\n",
      "Darling Downs - Maranoa\n",
      "308\n",
      "Central Queensland\n",
      "309\n",
      "Gold Coast\n",
      "310\n",
      "Ipswich\n",
      "311\n",
      "Logan - Beaudesert\n",
      "312\n",
      "Mackay - Isaac - Whitsunday\n",
      "313\n",
      "Moreton Bay - North\n",
      "314\n",
      "Moreton Bay - South\n",
      "315\n",
      "Queensland - Outback\n",
      "316\n",
      "Sunshine Coast\n",
      "317\n",
      "Toowoomba\n",
      "318\n",
      "Townsville\n",
      "319\n",
      "Wide Bay\n",
      "397\n",
      "Migratory - Offshore - Shipping (Qld)\n",
      "399\n",
      "No usual address (Qld)\n",
      "401\n",
      "Adelaide - Central and Hills\n",
      "402\n",
      "Adelaide - North\n",
      "403\n",
      "Adelaide - South\n",
      "404\n",
      "Adelaide - West\n",
      "405\n",
      "Barossa - Yorke - Mid North\n",
      "406\n",
      "South Australia - Outback\n",
      "407\n",
      "South Australia - South East\n",
      "497\n",
      "Migratory - Offshore - Shipping (SA)\n",
      "499\n",
      "No usual address (SA)\n",
      "501\n",
      "Bunbury\n",
      "502\n",
      "Mandurah\n",
      "503\n",
      "Perth - Inner\n",
      "504\n",
      "Perth - North East\n",
      "505\n",
      "Perth - North West\n",
      "506\n",
      "Perth - South East\n",
      "507\n",
      "Perth - South West\n",
      "509\n",
      "Western Australia - Wheat Belt\n",
      "510\n",
      "Western Australia - Outback (North)\n",
      "511\n",
      "Western Australia - Outback (South)\n",
      "597\n",
      "Migratory - Offshore - Shipping (WA)\n",
      "599\n",
      "No usual address (WA)\n",
      "601\n",
      "Hobart\n",
      "602\n",
      "Launceston and North East\n",
      "603\n",
      "South East\n",
      "604\n",
      "West and North West\n",
      "697\n",
      "Migratory - Offshore - Shipping (Tas.)\n",
      "699\n",
      "No usual address (Tas.)\n",
      "701\n",
      "Darwin\n",
      "702\n",
      "Northern Territory - Outback\n",
      "797\n",
      "Migratory - Offshore - Shipping (NT)\n",
      "799\n",
      "No usual address (NT)\n",
      "801\n",
      "Australian Capital Territory\n",
      "897\n",
      "Migratory - Offshore - Shipping (ACT)\n",
      "899\n",
      "No usual address (ACT)\n",
      "901\n",
      "Other Territories\n",
      "997\n",
      "Migratory - Offshore - Shipping (OT)\n",
      "999\n",
      "No usual address (OT)\n"
     ]
    }
   ],
   "source": [
    "for key in loc_data['features']:\n",
    "    print(key['properties']['SA4_CODE16'])\n",
    "    print(key['properties']['SA4_NAME16'])"
   ]
  },
  {
   "cell_type": "code",
   "execution_count": 80,
   "metadata": {},
   "outputs": [],
   "source": [
    "sa4_processed = {}\n",
    "\n",
    "for sa4 in loc_data['features']:\n",
    "    \n",
    "    code = sa4['properties']['SA4_CODE16']\n",
    "    try:\n",
    "        coord = sa4['geometry']['coordinates']\n",
    "\n",
    "        \n",
    "        \n",
    "        area = sa4['properties']['AREASQKM16']\n",
    "        \n",
    "        if area < 5000:\n",
    "            radius = (area / math.pi)**0.5\n",
    "        else:\n",
    "            radius = 40\n",
    "            \n",
    "        x = coord[1]\n",
    "        y = coord[0]\n",
    "\n",
    "        processed_coord = str(x)+','+str(y)+','+str(radius)+'km'\n",
    "        \n",
    "        sa4_processed[code] = {'coord':coord, 'processed_coord':processed_coord, 'area':area, 'radius':radius}\n",
    "    \n",
    "    except TypeError:\n",
    "        continue\n",
    "\n"
   ]
  },
  {
   "cell_type": "code",
   "execution_count": 81,
   "metadata": {},
   "outputs": [],
   "source": [
    "# math.pi"
   ]
  },
  {
   "cell_type": "code",
   "execution_count": 82,
   "metadata": {},
   "outputs": [],
   "source": [
    "# sa4_processed = {}\n",
    "# for sa4 in loc_data['features']:\n",
    "#     try:\n",
    "#         a= sa4['properties']['SA4_CODE16']\n",
    "#         b= sa4['geometry']['coordinates']\n",
    "        \n",
    "#         sa4_processed[a]=b\n",
    "#     except TypeError:\n",
    "#         continue"
   ]
  },
  {
   "cell_type": "code",
   "execution_count": 90,
   "metadata": {},
   "outputs": [
    {
     "data": {
      "text/plain": [
       "29.666666666666668"
      ]
     },
     "execution_count": 90,
     "metadata": {},
     "output_type": "execute_result"
    }
   ],
   "source": [
    "len(sa4_processed.keys())/3"
   ]
  },
  {
   "cell_type": "code",
   "execution_count": 91,
   "metadata": {},
   "outputs": [
    {
     "data": {
      "text/plain": [
       "dict_keys(['101', '102', '103', '104', '105', '106', '107', '108', '109', '110', '111', '112', '113', '114', '115', '116', '117', '118', '119', '120', '121', '122', '123', '124', '125', '126', '127', '128', '201', '202', '203', '204', '205', '206', '207', '208', '209', '210', '211', '212', '213', '214', '215', '216', '217', '301', '302', '303', '304', '305', '306', '307', '308', '309', '310', '311', '312', '313', '314', '315', '316', '317', '318', '319', '401', '402', '403', '404', '405', '406', '407', '501', '502', '503', '504', '505', '506', '507', '509', '510', '511', '601', '602', '603', '604', '701', '702', '801', '901'])"
      ]
     },
     "execution_count": 91,
     "metadata": {},
     "output_type": "execute_result"
    }
   ],
   "source": [
    "sa4_processed.keys()"
   ]
  },
  {
   "cell_type": "code",
   "execution_count": 92,
   "metadata": {},
   "outputs": [
    {
     "data": {
      "text/plain": [
       "{'coord': [105.64, -10.49],\n",
       " 'processed_coord': '-10.49,105.64,9.032606514681225km',\n",
       " 'area': 256.3162,\n",
       " 'radius': 9.032606514681225}"
      ]
     },
     "execution_count": 92,
     "metadata": {},
     "output_type": "execute_result"
    }
   ],
   "source": [
    "sa4_processed['901']"
   ]
  },
  {
   "cell_type": "code",
   "execution_count": null,
   "metadata": {},
   "outputs": [],
   "source": [
    "for key in list(sa4_processed.keys()):\n",
    "    loc_data['features']['key']\n",
    "    print(key['properties']['SA4_CODE16'])\n",
    "    print(key)"
   ]
  },
  {
   "cell_type": "code",
   "execution_count": null,
   "metadata": {},
   "outputs": [],
   "source": []
  },
  {
   "cell_type": "code",
   "execution_count": 84,
   "metadata": {},
   "outputs": [],
   "source": [
    "outfile = open(\"sa4_coord.pkl\", \"wb\")\n",
    "pickle.dump(sa4_processed, outfile)\n",
    "\n",
    "outfile.close()"
   ]
  },
  {
   "cell_type": "code",
   "execution_count": 2,
   "metadata": {},
   "outputs": [],
   "source": [
    "tweet_ex_data = json.load(open(\"tweet_ex_json.json\"))"
   ]
  },
  {
   "cell_type": "code",
   "execution_count": 10,
   "metadata": {},
   "outputs": [
    {
     "data": {
      "text/plain": [
       "1391676463028477953"
      ]
     },
     "execution_count": 10,
     "metadata": {},
     "output_type": "execute_result"
    }
   ],
   "source": [
    "tweet_ex_data['statuses'][0]['id']"
   ]
  },
  {
   "cell_type": "code",
   "execution_count": 13,
   "metadata": {},
   "outputs": [],
   "source": [
    "id_list = []\n",
    "\n",
    "for key in tweet_ex_data['statuses']:\n",
    "    \n",
    "    id_list.append(key['id'])\n",
    "#     print(key['id'])"
   ]
  },
  {
   "cell_type": "code",
   "execution_count": 15,
   "metadata": {},
   "outputs": [
    {
     "data": {
      "text/plain": [
       "1391676463028477953"
      ]
     },
     "execution_count": 15,
     "metadata": {},
     "output_type": "execute_result"
    }
   ],
   "source": [
    "max(id_list)"
   ]
  },
  {
   "cell_type": "code",
   "execution_count": 16,
   "metadata": {},
   "outputs": [
    {
     "data": {
      "text/plain": [
       "1391676115740069894"
      ]
     },
     "execution_count": 16,
     "metadata": {},
     "output_type": "execute_result"
    }
   ],
   "source": [
    "min(id_list)"
   ]
  },
  {
   "cell_type": "code",
   "execution_count": 17,
   "metadata": {},
   "outputs": [
    {
     "data": {
      "text/plain": [
       "{'completed_in': 0.094,\n",
       " 'max_id': 1391676463028477953,\n",
       " 'max_id_str': '1391676463028477953',\n",
       " 'next_results': '?max_id=1391676115740069893&q=&geocode=%22-32.99%2C%20151.57%2C40km%22&include_entities=1',\n",
       " 'query': '',\n",
       " 'refresh_url': '?since_id=1391676463028477953&q=&geocode=%22-32.99%2C%20151.57%2C40km%22&include_entities=1',\n",
       " 'count': 15,\n",
       " 'since_id': 0,\n",
       " 'since_id_str': '0'}"
      ]
     },
     "execution_count": 17,
     "metadata": {},
     "output_type": "execute_result"
    }
   ],
   "source": [
    "tweet_ex_data['search_metadata']"
   ]
  },
  {
   "cell_type": "code",
   "execution_count": 19,
   "metadata": {},
   "outputs": [
    {
     "data": {
      "text/plain": [
       "1"
      ]
     },
     "execution_count": 19,
     "metadata": {},
     "output_type": "execute_result"
    }
   ],
   "source": [
    "min(id_list) - 1391676115740069893"
   ]
  },
  {
   "cell_type": "code",
   "execution_count": null,
   "metadata": {},
   "outputs": [],
   "source": []
  }
 ],
 "metadata": {
  "kernelspec": {
   "display_name": "Python 3",
   "language": "python",
   "name": "python3"
  },
  "language_info": {
   "codemirror_mode": {
    "name": "ipython",
    "version": 3
   },
   "file_extension": ".py",
   "mimetype": "text/x-python",
   "name": "python",
   "nbconvert_exporter": "python",
   "pygments_lexer": "ipython3",
   "version": "3.8.5"
  }
 },
 "nbformat": 4,
 "nbformat_minor": 4
}
